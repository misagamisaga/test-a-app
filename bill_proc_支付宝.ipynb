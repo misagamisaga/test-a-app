{
 "cells": [
  {
   "cell_type": "code",
   "execution_count": 2,
   "metadata": {},
   "outputs": [],
   "source": [
    "import os\n",
    "import pandas as pd\n",
    "import matplotlib.pyplot as plt\n",
    "import seaborn as sns\n",
    "\n",
    "from bill_pre import *"
   ]
  },
  {
   "cell_type": "markdown",
   "metadata": {},
   "source": [
    "## 读取账单信息并进行预处理"
   ]
  },
  {
   "cell_type": "markdown",
   "metadata": {},
   "source": [
    "- 列补充\n",
    "    - 单独做出年、月、日、时、相对首日的日数这几个列\n",
    "    - 所有条目按照时间排序\n",
    "    - 将收入支出合并到金额条目中。为了方便分析，支出为正，收入为负\n",
    "    - 计算当时总余额\n",
    "        - （先设置初始为0，然后看总账单余额最低点，再将余额最低点设为0就可以得到近似的余额）\n",
    "    \n",
    "- 需要人工\n",
    "    - 去除付款后退款的条目（相当于交易未发生）：主要是淘宝和携程\n",
    "    - 合并微信转出后到支付宝花掉的条目\n",
    "    - 去掉氪金的项目别被发现了\n",
    "    - 标出自动续费\n",
    "    - 对商家进行去重\n",
    "    - 三级标注：项目 - 类别 - 商家"
   ]
  },
  {
   "cell_type": "code",
   "execution_count": 13,
   "metadata": {},
   "outputs": [
    {
     "data": {
      "text/html": [
       "<div>\n",
       "<style scoped>\n",
       "    .dataframe tbody tr th:only-of-type {\n",
       "        vertical-align: middle;\n",
       "    }\n",
       "\n",
       "    .dataframe tbody tr th {\n",
       "        vertical-align: top;\n",
       "    }\n",
       "\n",
       "    .dataframe thead th {\n",
       "        text-align: right;\n",
       "    }\n",
       "</style>\n",
       "<table border=\"1\" class=\"dataframe\">\n",
       "  <thead>\n",
       "    <tr style=\"text-align: right;\">\n",
       "      <th></th>\n",
       "      <th>cmd</th>\n",
       "      <th>cp</th>\n",
       "      <th>in/ex</th>\n",
       "      <th>amount</th>\n",
       "      <th>type</th>\n",
       "      <th>pay_mode</th>\n",
       "      <th>state</th>\n",
       "      <th>date-time</th>\n",
       "    </tr>\n",
       "  </thead>\n",
       "  <tbody>\n",
       "    <tr>\n",
       "      <th>0</th>\n",
       "      <td>转账备注:微信转账</td>\n",
       "      <td>YL尚文轩，jy方肝胆合作师兄</td>\n",
       "      <td>收入</td>\n",
       "      <td>111.0</td>\n",
       "      <td>转账</td>\n",
       "      <td>/</td>\n",
       "      <td>已存入零钱</td>\n",
       "      <td>2024-04-01 22:44:30</td>\n",
       "    </tr>\n",
       "    <tr>\n",
       "      <th>1</th>\n",
       "      <td>510441温州永泰店购物</td>\n",
       "      <td>十足便利店</td>\n",
       "      <td>支出</td>\n",
       "      <td>49.0</td>\n",
       "      <td>商户消费</td>\n",
       "      <td>零钱通</td>\n",
       "      <td>支付成功</td>\n",
       "      <td>2024-04-01 22:07:44</td>\n",
       "    </tr>\n",
       "    <tr>\n",
       "      <th>2</th>\n",
       "      <td>美团/大众点评点餐订单-04014629709136792857749</td>\n",
       "      <td>巷弄食集</td>\n",
       "      <td>支出</td>\n",
       "      <td>28.0</td>\n",
       "      <td>商户消费</td>\n",
       "      <td>零钱通</td>\n",
       "      <td>支付成功</td>\n",
       "      <td>2024-04-01 12:03:30</td>\n",
       "    </tr>\n",
       "    <tr>\n",
       "      <th>3</th>\n",
       "      <td>购买大会员</td>\n",
       "      <td>上海宽娱</td>\n",
       "      <td>支出</td>\n",
       "      <td>15.0</td>\n",
       "      <td>商户消费</td>\n",
       "      <td>零钱通</td>\n",
       "      <td>支付成功</td>\n",
       "      <td>2024-04-01 11:43:10</td>\n",
       "    </tr>\n",
       "    <tr>\n",
       "      <th>4</th>\n",
       "      <td>收款方备注:二维码收款</td>\n",
       "      <td>Jackqiu</td>\n",
       "      <td>支出</td>\n",
       "      <td>33.0</td>\n",
       "      <td>扫二维码付款</td>\n",
       "      <td>零钱通</td>\n",
       "      <td>已转账</td>\n",
       "      <td>2024-03-31 23:14:09</td>\n",
       "    </tr>\n",
       "  </tbody>\n",
       "</table>\n",
       "</div>"
      ],
      "text/plain": [
       "                                   cmd               cp in/ex  amount    type  \\\n",
       "0                            转账备注:微信转账  YL尚文轩，jy方肝胆合作师兄    收入   111.0      转账   \n",
       "1                        510441温州永泰店购物            十足便利店    支出    49.0    商户消费   \n",
       "2  美团/大众点评点餐订单-04014629709136792857749             巷弄食集    支出    28.0    商户消费   \n",
       "3                                购买大会员             上海宽娱    支出    15.0    商户消费   \n",
       "4                          收款方备注:二维码收款          Jackqiu    支出    33.0  扫二维码付款   \n",
       "\n",
       "  pay_mode  state           date-time  \n",
       "0        /  已存入零钱 2024-04-01 22:44:30  \n",
       "1      零钱通   支付成功 2024-04-01 22:07:44  \n",
       "2      零钱通   支付成功 2024-04-01 12:03:30  \n",
       "3      零钱通   支付成功 2024-04-01 11:43:10  \n",
       "4      零钱通    已转账 2024-03-31 23:14:09  "
      ]
     },
     "execution_count": 13,
     "metadata": {},
     "output_type": "execute_result"
    }
   ],
   "source": [
    "bill = pd.read_excel(r'F:\\today\\对账\\bill_ori.xlsx')\n",
    "bill.columns = [\n",
    "    \"cmd\", # commodity商品\n",
    "    \"cp\", # conterparty 交易对方\n",
    "    \"in/ex\", # 收入/支出\n",
    "    \"amount\", # 金额\n",
    "    \"type\", # 交易类型\n",
    "    \"pay_mode\", # 支付方式\n",
    "    \"state\", # 交易状态\n",
    "    \"date-time\", # 日期时间\n",
    "]\n",
    "bill.head()"
   ]
  },
  {
   "cell_type": "code",
   "execution_count": 31,
   "metadata": {},
   "outputs": [],
   "source": [
    "# 单独做出年、月、日、时、相对首日的日数这几个列\n",
    "def get_ymdh(time_stamp, time_ref):\n",
    "    \"\"\"\n",
    "    输入单个时间戳，返回、年、月、日、时、相对首日日数\n",
    "    ---\n",
    "    输入\n",
    "    - time_stamp: 单个时间戳\n",
    "    - time_ref: 参考时间, 也是一个时间戳\n",
    "    \"\"\"\n",
    "    year = time_stamp.year\n",
    "    month = time_stamp.month\n",
    "    day = time_stamp.day\n",
    "    hour = time_stamp.hour\n",
    "\n",
    "    time_delta = time_stamp - time_ref\n",
    "    day_delta = time_delta.days\n",
    "    return year, month, day, hour, day_delta\n",
    "\n",
    "time_ref = pd.Timestamp('2024-01-01 00:00:00')\n",
    "bill['year'], bill['month'], bill['day'], bill['hour'], bill['day_delta'] = zip(*bill['date-time'].apply(lambda x: get_ymdh(x, time_ref)))"
   ]
  },
  {
   "cell_type": "code",
   "execution_count": 34,
   "metadata": {},
   "outputs": [],
   "source": [
    "# 按时间排序\n",
    "bill = bill.sort_values(by='date-time')"
   ]
  },
  {
   "cell_type": "code",
   "execution_count": 39,
   "metadata": {},
   "outputs": [],
   "source": [
    "# 将收入支出合并到金额条目中。为了方便分析，支出为正，收入为负\n",
    "# （依赖于已经事先删除“转出/转入到支付宝”、“购买后又退款”等特殊类型的数据，否则收支会不止收入/支出两种情况）\n",
    "\n",
    "# 构造\"ine\"这个临时的列。如果是收入，则ine=-1；否则ine=1\n",
    "bill['ine'] = bill['in/ex'].apply(lambda x: -1 if x == '收入' else 1)\n",
    "bill['amount'] = bill['amount'] * bill['ine']  # 相乘，使得金额获得代表收入/支出的正负符号\n",
    "bill.drop(columns=['ine', 'in/ex'], inplace=True)  # 删去临时的列"
   ]
  },
  {
   "cell_type": "code",
   "execution_count": 41,
   "metadata": {},
   "outputs": [],
   "source": [
    "# 计算当时总余额\n",
    "bill['total_balance'] = bill['amount'].cumsum()"
   ]
  },
  {
   "cell_type": "code",
   "execution_count": 33,
   "metadata": {},
   "outputs": [],
   "source": [
    "# 去除付款后退款的条目（相当于交易未发生）：主要是淘宝和携程\n",
    "# 合并微信转出后到支付宝花掉的条目\n",
    "# 标出自动续费\n",
    "# 对商家进行去重\n",
    "# 三级标注：项目 - 类别 - 商家\n",
    "# 去掉氪金的项目别被发现了\n"
   ]
  },
  {
   "cell_type": "markdown",
   "metadata": {},
   "source": [
    "# 输出结果"
   ]
  },
  {
   "cell_type": "markdown",
   "metadata": {},
   "source": [
    "- 针对总体和任意时间和任意项目\n",
    "    - 对于每一子类别的饼图\n",
    "    - 其中金额最大的几笔账目或几个类别的列举\n",
    "    - 平均每个类别的账目发生的次数和平均金额，中位数、分位数和分布图\n",
    "    - 总支出的随时间的变化折线图\n",
    "    - 按月的堆积折线图"
   ]
  },
  {
   "cell_type": "code",
   "execution_count": null,
   "metadata": {},
   "outputs": [],
   "source": []
  }
 ],
 "metadata": {
  "kernelspec": {
   "display_name": "Python 3",
   "language": "python",
   "name": "python3"
  },
  "language_info": {
   "codemirror_mode": {
    "name": "ipython",
    "version": 3
   },
   "file_extension": ".py",
   "mimetype": "text/x-python",
   "name": "python",
   "nbconvert_exporter": "python",
   "pygments_lexer": "ipython3",
   "version": "3.10.13"
  }
 },
 "nbformat": 4,
 "nbformat_minor": 2
}
