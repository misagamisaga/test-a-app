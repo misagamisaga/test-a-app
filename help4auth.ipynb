{
 "cells": [
  {
   "cell_type": "code",
   "execution_count": 83,
   "metadata": {},
   "outputs": [],
   "source": [
    "# import pickle\n",
    "import hashlib\n",
    "import yaml"
   ]
  },
  {
   "cell_type": "code",
   "execution_count": 84,
   "metadata": {},
   "outputs": [],
   "source": [
    "with open(\"users_info.yaml\", \"r\", encoding=\"utf-8\") as f:\n",
    "    users_info = yaml.load(f, Loader=yaml.FullLoader)"
   ]
  },
  {
   "cell_type": "code",
   "execution_count": 86,
   "metadata": {},
   "outputs": [],
   "source": [
    "def get_hashed_password(password_in, item_dict_in:dict):\n",
    "    \"\"\"\n",
    "    salt: 加盐\n",
    "    \"\"\"\n",
    "    true_salt = \"secert_key_added%$^\" + item_dict_in['role'] + item_dict_in['username'] + \"and\" + item_dict_in['true_name']\n",
    "    hash_item = hashlib.sha3_256(true_salt.encode('utf-8'))\n",
    "    hash_item.update(str(password_in).encode('utf-8'))\n",
    "    hashed_password = hash_item.hexdigest()\n",
    "    \n",
    "    return hashed_password"
   ]
  },
  {
   "cell_type": "code",
   "execution_count": 87,
   "metadata": {},
   "outputs": [],
   "source": [
    "for user in users_info.keys():\n",
    "    users_info[user]['password'] = get_hashed_password(users_info[user]['password'], users_info[user])"
   ]
  },
  {
   "cell_type": "code",
   "execution_count": 88,
   "metadata": {},
   "outputs": [],
   "source": [
    "with open(\"users_info.yaml\", \"w\", encoding=\"utf-8\") as f:\n",
    "    yaml.dump(users_info, stream=f, allow_unicode=True, sort_keys=False)"
   ]
  },
  {
   "cell_type": "code",
   "execution_count": 39,
   "metadata": {},
   "outputs": [
    {
     "data": {
      "text/plain": [
       "{'myc': {'true_name': 'myc',\n",
       "  'role': 'Admin',\n",
       "  'password': 123456,\n",
       "  'email': 'abc@xyz.com',\n",
       "  'phone_number': 1234567890},\n",
       " 'fxp': {'true_name': 'fxp',\n",
       "  'role': 'Requester',\n",
       "  'password': 123456,\n",
       "  'email': 'abc@xyz.com',\n",
       "  'phone_number': 1234567890},\n",
       " 'mwk': {'true_name': 'mwk',\n",
       "  'role': 'Requester',\n",
       "  'password': 123456,\n",
       "  'email': 'abc@xyz.com',\n",
       "  'phone_number': 1234567890},\n",
       " 'mmm': {'true_name': 'mmm',\n",
       "  'role': 'Requester',\n",
       "  'password': 123456,\n",
       "  'email': 'abc@xyz.com',\n",
       "  'phone_number': 1234567890}}"
      ]
     },
     "execution_count": 39,
     "metadata": {},
     "output_type": "execute_result"
    }
   ],
   "source": [
    "users_info"
   ]
  },
  {
   "cell_type": "code",
   "execution_count": 6,
   "metadata": {},
   "outputs": [],
   "source": [
    "def get_hashed_password(password:str, salt1:str=\"abc\", salt2:str=\"ABC\"):\n",
    "    \"\"\"\n",
    "    salt: 加盐\n",
    "    \"\"\"\n",
    "    true_salt = \"secert_key_added%$^\" + salt1 + \"and\" + salt2\n",
    "    hash_item = hashlib.sha3_256(true_salt.encode('utf-8'))\n",
    "    hash_item.update(password.encode('utf-8'))\n",
    "    hashed_password = hash_item.hexdigest()\n",
    "    \n",
    "    return hashed_password"
   ]
  },
  {
   "cell_type": "code",
   "execution_count": 18,
   "metadata": {},
   "outputs": [],
   "source": [
    "class password_item():\n",
    "    def __init__(self, username:str, role:str, password:str, true_name:str=\"Default Person\", email:str=\"\", phone_number:str=\"\"):\n",
    "        self.true_name = true_name\n",
    "        self.username = username\n",
    "        self.role = role\n",
    "        self.phone_number = phone_number\n",
    "        self.password = get_hashed_password(password, username, role)\n",
    "        self.email = email"
   ]
  },
  {
   "cell_type": "code",
   "execution_count": 19,
   "metadata": {},
   "outputs": [],
   "source": [
    "class users_item():\n",
    "    def __init__(self, password_items:list):\n",
    "        self.username_set = set([item.username for item in password_items])\n",
    "        self.item_dict = {item.username:item for item in password_items}\n",
    "    \n",
    "    def get_item(self, username:str)->password_item:\n",
    "        if username not in self.username_set:\n",
    "            raise ValueError(\"Username does not exist\")\n",
    "        else:\n",
    "            return self.item_dict[username]\n",
    "\n",
    "    # 新增item\n",
    "    def add_item(self, item:password_item):\n",
    "        if item.username in self.username_set:\n",
    "            raise ValueError(\"Username already exists\")\n",
    "        else:\n",
    "            self.username_set.add(item.username)\n",
    "            self.item_dict[item.username] = item\n",
    "            \n",
    "    # 删除item\n",
    "    def delete_item(self, username:str):\n",
    "        self.username_set.remove(username)\n",
    "        del self.item_dict[username]\n",
    "        \n",
    "    # 编辑已有的item\n",
    "    def edit_item(self, item:password_item):\n",
    "        if item.username not in self.username_set:\n",
    "            raise ValueError(\"Username does not exist\")\n",
    "        else:\n",
    "            self.item_dict[item.username] = item"
   ]
  },
  {
   "cell_type": "code",
   "execution_count": 23,
   "metadata": {},
   "outputs": [],
   "source": [
    "user_ori_item = users_item(\n",
    "    [\n",
    "        password_item(\n",
    "            username=\"myc\", \n",
    "            true_name=\"myc\", \n",
    "            role=\"Admin\", \n",
    "            password=\"123456\", \n",
    "            email=\"abc@xyz.com\", \n",
    "            phone_number=\"1234567890\"\n",
    "        ), \n",
    "        password_item(\n",
    "            username=\"fxp\", \n",
    "            true_name=\"fxp\", \n",
    "            role=\"Requester\", \n",
    "            password=\"123456\", \n",
    "            email=\"abc@xyz.com\", \n",
    "            phone_number=\"1234567890\"\n",
    "        ), \n",
    "        password_item(\n",
    "            username=\"mwk\", \n",
    "            true_name=\"mwk\", \n",
    "            role=\"Requester\", \n",
    "            password=\"123456\", \n",
    "            email=\"abc@xyz.com\", \n",
    "            phone_number=\"1234567890\"\n",
    "        ), \n",
    "    ]\n",
    ")"
   ]
  },
  {
   "cell_type": "code",
   "execution_count": 21,
   "metadata": {},
   "outputs": [],
   "source": [
    "user_ori_item.add_item(password_item(username=\"cde\", true_name=\"Cathy\", role=\"Admin\", password=\"123456\", email=\"abc@xyz.com\", phone_number=\"1234567890\"))"
   ]
  },
  {
   "cell_type": "code",
   "execution_count": 26,
   "metadata": {},
   "outputs": [],
   "source": [
    "with open('help4auth.pickle', 'wb') as f:\n",
    "    pickle.dump(user_ori_item, f)"
   ]
  },
  {
   "cell_type": "code",
   "execution_count": null,
   "metadata": {},
   "outputs": [],
   "source": []
  }
 ],
 "metadata": {
  "kernelspec": {
   "display_name": "Python 3",
   "language": "python",
   "name": "python3"
  },
  "language_info": {
   "codemirror_mode": {
    "name": "ipython",
    "version": 3
   },
   "file_extension": ".py",
   "mimetype": "text/x-python",
   "name": "python",
   "nbconvert_exporter": "python",
   "pygments_lexer": "ipython3",
   "version": "3.10.13"
  }
 },
 "nbformat": 4,
 "nbformat_minor": 2
}
